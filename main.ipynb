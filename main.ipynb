{
 "cells": [
  {
   "cell_type": "code",
   "execution_count": 1,
   "metadata": {},
   "outputs": [],
   "source": [
    "import pandas as pd\n",
    "from sklearn.model_selection import train_test_split"
   ]
  },
  {
   "cell_type": "markdown",
   "metadata": {},
   "source": [
    "## Load the Dataset"
   ]
  },
  {
   "cell_type": "code",
   "execution_count": 2,
   "metadata": {},
   "outputs": [],
   "source": [
    "url1 = \"https://raw.githubusercontent.com/clairett/pytorch-sentiment-classification/master/data/SST2/train.tsv\"\n",
    "url2 = \"https://raw.githubusercontent.com/clairett/pytorch-sentiment-classification/master/data/SST2/test.tsv\"\n",
    "\n",
    "train = pd.read_csv(url1, sep=\"\\t\")\n",
    "test = pd.read_csv(url2, sep=\"\\t\")"
   ]
  },
  {
   "cell_type": "code",
   "execution_count": 3,
   "metadata": {},
   "outputs": [],
   "source": [
    "train.columns = [\"sentence\", \"label\"]\n",
    "test.columns = [\"sentence\", \"label\"]"
   ]
  },
  {
   "cell_type": "code",
   "execution_count": 4,
   "metadata": {},
   "outputs": [
    {
     "data": {
      "text/html": [
       "<div>\n",
       "<style scoped>\n",
       "    .dataframe tbody tr th:only-of-type {\n",
       "        vertical-align: middle;\n",
       "    }\n",
       "\n",
       "    .dataframe tbody tr th {\n",
       "        vertical-align: top;\n",
       "    }\n",
       "\n",
       "    .dataframe thead th {\n",
       "        text-align: right;\n",
       "    }\n",
       "</style>\n",
       "<table border=\"1\" class=\"dataframe\">\n",
       "  <thead>\n",
       "    <tr style=\"text-align: right;\">\n",
       "      <th></th>\n",
       "      <th>sentence</th>\n",
       "      <th>label</th>\n",
       "    </tr>\n",
       "  </thead>\n",
       "  <tbody>\n",
       "    <tr>\n",
       "      <th>0</th>\n",
       "      <td>apparently reassembled from the cutting room f...</td>\n",
       "      <td>0</td>\n",
       "    </tr>\n",
       "    <tr>\n",
       "      <th>1</th>\n",
       "      <td>they presume their audience wo n't sit still f...</td>\n",
       "      <td>0</td>\n",
       "    </tr>\n",
       "    <tr>\n",
       "      <th>2</th>\n",
       "      <td>this is a visually stunning rumination on love...</td>\n",
       "      <td>1</td>\n",
       "    </tr>\n",
       "    <tr>\n",
       "      <th>3</th>\n",
       "      <td>jonathan parker 's bartleby should have been t...</td>\n",
       "      <td>1</td>\n",
       "    </tr>\n",
       "    <tr>\n",
       "      <th>4</th>\n",
       "      <td>campanella gets the tone just right funny in t...</td>\n",
       "      <td>1</td>\n",
       "    </tr>\n",
       "    <tr>\n",
       "      <th>...</th>\n",
       "      <td>...</td>\n",
       "      <td>...</td>\n",
       "    </tr>\n",
       "    <tr>\n",
       "      <th>6914</th>\n",
       "      <td>painful , horrifying and oppressively tragic ,...</td>\n",
       "      <td>1</td>\n",
       "    </tr>\n",
       "    <tr>\n",
       "      <th>6915</th>\n",
       "      <td>take care is nicely performed by a quintet of ...</td>\n",
       "      <td>0</td>\n",
       "    </tr>\n",
       "    <tr>\n",
       "      <th>6916</th>\n",
       "      <td>the script covers huge , heavy topics in a bla...</td>\n",
       "      <td>0</td>\n",
       "    </tr>\n",
       "    <tr>\n",
       "      <th>6917</th>\n",
       "      <td>a seriously bad film with seriously warped log...</td>\n",
       "      <td>0</td>\n",
       "    </tr>\n",
       "    <tr>\n",
       "      <th>6918</th>\n",
       "      <td>a deliciously nonsensical comedy about a city ...</td>\n",
       "      <td>1</td>\n",
       "    </tr>\n",
       "  </tbody>\n",
       "</table>\n",
       "<p>6919 rows × 2 columns</p>\n",
       "</div>"
      ],
      "text/plain": [
       "                                               sentence  label\n",
       "0     apparently reassembled from the cutting room f...      0\n",
       "1     they presume their audience wo n't sit still f...      0\n",
       "2     this is a visually stunning rumination on love...      1\n",
       "3     jonathan parker 's bartleby should have been t...      1\n",
       "4     campanella gets the tone just right funny in t...      1\n",
       "...                                                 ...    ...\n",
       "6914  painful , horrifying and oppressively tragic ,...      1\n",
       "6915  take care is nicely performed by a quintet of ...      0\n",
       "6916  the script covers huge , heavy topics in a bla...      0\n",
       "6917  a seriously bad film with seriously warped log...      0\n",
       "6918  a deliciously nonsensical comedy about a city ...      1\n",
       "\n",
       "[6919 rows x 2 columns]"
      ]
     },
     "execution_count": 4,
     "metadata": {},
     "output_type": "execute_result"
    }
   ],
   "source": [
    "train"
   ]
  },
  {
   "cell_type": "code",
   "execution_count": 5,
   "metadata": {},
   "outputs": [],
   "source": [
    "X_train, X_val, y_train, y_val = train_test_split(train[\"sentence\"], train[\"label\"], test_size=0.2, random_state=42)"
   ]
  },
  {
   "cell_type": "markdown",
   "metadata": {},
   "source": [
    "## MLP Model"
   ]
  },
  {
   "cell_type": "code",
   "execution_count": 6,
   "metadata": {},
   "outputs": [],
   "source": [
    "import torch\n",
    "from torch import nn"
   ]
  },
  {
   "cell_type": "code",
   "execution_count": 7,
   "metadata": {},
   "outputs": [],
   "source": [
    "import torch.nn as nn\n",
    "\n",
    "class MLP(nn.Module):\n",
    "    def __init__(self, input_dim, output_dim):\n",
    "        super(MLP, self).__init__()\n",
    "        \n",
    "        self.model = nn.Sequential(\n",
    "            nn.Linear(input_dim, 512),\n",
    "            nn.ReLU(),\n",
    "            nn.Dropout(0.3),\n",
    "\n",
    "            nn.Linear(512, 256),\n",
    "            nn.ReLU(),\n",
    "            nn.Dropout(0.3),\n",
    "\n",
    "            nn.Linear(256, 128),\n",
    "            nn.ReLU(),\n",
    "            nn.Dropout(0.3),\n",
    "\n",
    "            nn.Linear(128, 64),\n",
    "            nn.ReLU(),\n",
    "            nn.Dropout(0.3),\n",
    "\n",
    "            nn.Linear(64, output_dim)\n",
    "        )\n",
    "\n",
    "    def forward(self, x):\n",
    "        return self.model(x)\n"
   ]
  },
  {
   "cell_type": "code",
   "execution_count": 8,
   "metadata": {},
   "outputs": [],
   "source": [
    "device = torch.device(\"cuda\" if torch.cuda.is_available() else \"cpu\")\n",
    "model = MLP(10000, 2).to(device)"
   ]
  },
  {
   "cell_type": "code",
   "execution_count": 9,
   "metadata": {},
   "outputs": [
    {
     "data": {
      "text/plain": [
       "==========================================================================================\n",
       "Layer (type:depth-idx)                   Output Shape              Param #\n",
       "==========================================================================================\n",
       "MLP                                      [64, 2]                   --\n",
       "├─Sequential: 1-1                        [64, 2]                   --\n",
       "│    └─Linear: 2-1                       [64, 512]                 5,120,512\n",
       "│    └─ReLU: 2-2                         [64, 512]                 --\n",
       "│    └─Dropout: 2-3                      [64, 512]                 --\n",
       "│    └─Linear: 2-4                       [64, 256]                 131,328\n",
       "│    └─ReLU: 2-5                         [64, 256]                 --\n",
       "│    └─Dropout: 2-6                      [64, 256]                 --\n",
       "│    └─Linear: 2-7                       [64, 128]                 32,896\n",
       "│    └─ReLU: 2-8                         [64, 128]                 --\n",
       "│    └─Dropout: 2-9                      [64, 128]                 --\n",
       "│    └─Linear: 2-10                      [64, 64]                  8,256\n",
       "│    └─ReLU: 2-11                        [64, 64]                  --\n",
       "│    └─Dropout: 2-12                     [64, 64]                  --\n",
       "│    └─Linear: 2-13                      [64, 2]                   130\n",
       "==========================================================================================\n",
       "Total params: 5,293,122\n",
       "Trainable params: 5,293,122\n",
       "Non-trainable params: 0\n",
       "Total mult-adds (M): 338.76\n",
       "==========================================================================================\n",
       "Input size (MB): 2.56\n",
       "Forward/backward pass size (MB): 0.49\n",
       "Params size (MB): 21.17\n",
       "Estimated Total Size (MB): 24.23\n",
       "=========================================================================================="
      ]
     },
     "execution_count": 9,
     "metadata": {},
     "output_type": "execute_result"
    }
   ],
   "source": [
    "from torchinfo import summary\n",
    "\n",
    "summary(model, input_size=(64, 10000))  # (batch_size, input_dim)"
   ]
  },
  {
   "cell_type": "code",
   "execution_count": 10,
   "metadata": {},
   "outputs": [],
   "source": [
    "from sklearn.feature_extraction.text import TfidfVectorizer\n",
    "from torch.utils.data import TensorDataset, DataLoader"
   ]
  },
  {
   "cell_type": "code",
   "execution_count": 11,
   "metadata": {},
   "outputs": [],
   "source": [
    "\n",
    "# Vectorize the text using TF-IDF\n",
    "vectorizer = TfidfVectorizer(max_features=10000)  # 300 input_dim for MLP\n",
    "X_train_vec = vectorizer.fit_transform(X_train).toarray()\n",
    "X_val_vec = vectorizer.transform(X_val).toarray()\n",
    "\n",
    "# Convert to tensors\n",
    "X_train_tensor = torch.tensor(X_train_vec, dtype=torch.float32)\n",
    "X_val_tensor = torch.tensor(X_val_vec, dtype=torch.float32)\n",
    "y_train_tensor = torch.tensor(y_train.values, dtype=torch.long)\n",
    "y_val_tensor = torch.tensor(y_val.values, dtype=torch.long)\n",
    "# Datasets and loaders\n",
    "train_dataset = TensorDataset(X_train_tensor, y_train_tensor)\n",
    "val_dataset = TensorDataset(X_val_tensor, y_val_tensor)\n",
    "\n",
    "train_loader = DataLoader(train_dataset, batch_size=64, shuffle=True)\n",
    "val_loader = DataLoader(val_dataset, batch_size=64)\n"
   ]
  },
  {
   "cell_type": "code",
   "execution_count": 12,
   "metadata": {},
   "outputs": [],
   "source": [
    "test_vec = vectorizer.transform(test['sentence']).toarray()\n",
    "X_test_tensor = torch.tensor(test_vec, dtype=torch.float32)\n",
    "X_test_tensor_16= torch.tensor(test_vec, dtype=torch.float16)\n",
    "y_test_tensor = torch.tensor(test['label'].values, dtype=torch.long)"
   ]
  },
  {
   "cell_type": "markdown",
   "metadata": {},
   "source": [
    "## Training the model"
   ]
  },
  {
   "cell_type": "code",
   "execution_count": 13,
   "metadata": {},
   "outputs": [
    {
     "name": "stdout",
     "output_type": "stream",
     "text": [
      "Epoch 1/10 | Train Loss: 0.6191 | Val Loss: 0.4665 | Val Acc: 0.7775\n",
      "Epoch 2/10 | Train Loss: 0.2714 | Val Loss: 0.5273 | Val Acc: 0.7825\n",
      "Epoch 3/10 | Train Loss: 0.0817 | Val Loss: 0.7660 | Val Acc: 0.7681\n",
      "Epoch 4/10 | Train Loss: 0.0196 | Val Loss: 1.1391 | Val Acc: 0.7572\n",
      "Epoch 5/10 | Train Loss: 0.0071 | Val Loss: 1.4694 | Val Acc: 0.7608\n",
      "Epoch 6/10 | Train Loss: 0.0060 | Val Loss: 1.5754 | Val Acc: 0.7616\n",
      "Epoch 7/10 | Train Loss: 0.0016 | Val Loss: 1.8144 | Val Acc: 0.7572\n",
      "Epoch 8/10 | Train Loss: 0.0007 | Val Loss: 1.9232 | Val Acc: 0.7616\n",
      "Epoch 9/10 | Train Loss: 0.0005 | Val Loss: 2.1379 | Val Acc: 0.7630\n",
      "Epoch 10/10 | Train Loss: 0.0003 | Val Loss: 2.4859 | Val Acc: 0.7478\n"
     ]
    }
   ],
   "source": [
    "import torch.optim as optim\n",
    "\n",
    "# Hyperparameters\n",
    "input_dim = 10000  # update this if using a different embedding size\n",
    "output_dim = 2\n",
    "num_epochs = 10\n",
    "batch_size = 64\n",
    "learning_rate = 0.001\n",
    "\n",
    "\n",
    "criterion = nn.CrossEntropyLoss()\n",
    "optimizer = optim.Adam(model.parameters(), lr=learning_rate)\n",
    "\n",
    "# Trackers\n",
    "best_val_acc = 0.0\n",
    "train_losses, val_losses, val_accuracies = [], [], []\n",
    "\n",
    "# Training loop\n",
    "for epoch in range(num_epochs):\n",
    "    model.train()\n",
    "    train_loss = 0.0\n",
    "\n",
    "    for inputs, labels in train_loader:\n",
    "        inputs, labels = inputs.to(device), labels.to(device)\n",
    "\n",
    "        optimizer.zero_grad()\n",
    "        outputs = model(inputs)\n",
    "        loss = criterion(outputs, labels)\n",
    "        loss.backward()\n",
    "        optimizer.step()\n",
    "\n",
    "        train_loss += loss.item()\n",
    "\n",
    "    train_losses.append(train_loss / len(train_loader))\n",
    "\n",
    "    # Validation\n",
    "    model.eval()\n",
    "    correct = 0\n",
    "    total = 0\n",
    "    val_loss = 0.0\n",
    "\n",
    "    with torch.no_grad():\n",
    "        for inputs, labels in val_loader:\n",
    "            inputs, labels = inputs.to(device), labels.to(device)\n",
    "            outputs = model(inputs)\n",
    "\n",
    "            loss = criterion(outputs, labels)\n",
    "            val_loss += loss.item()\n",
    "\n",
    "            _, predicted = torch.max(outputs, 1)\n",
    "            correct += (predicted == labels).sum().item()\n",
    "            total += labels.size(0)\n",
    "\n",
    "    avg_val_loss = val_loss / len(val_loader)\n",
    "    val_acc = correct / total\n",
    "    val_losses.append(avg_val_loss)\n",
    "    val_accuracies.append(val_acc)\n",
    "\n",
    "    print(f\"Epoch {epoch+1}/{num_epochs} | Train Loss: {train_losses[-1]:.4f} | Val Loss: {avg_val_loss:.4f} | Val Acc: {val_acc:.4f}\")\n",
    "\n",
    "    # Save best model\n",
    "    if val_acc > best_val_acc:\n",
    "        best_val_acc = val_acc\n",
    "        torch.save(model.state_dict(), \"checkpoint.pt\")"
   ]
  },
  {
   "cell_type": "code",
   "execution_count": 14,
   "metadata": {},
   "outputs": [
    {
     "data": {
      "image/png": "[encoded data removed]",
      "text/plain": [
       "<Figure size 1000x500 with 2 Axes>"
      ]
     },
     "metadata": {},
     "output_type": "display_data"
    }
   ],
   "source": [
    "# Plotting\n",
    "import matplotlib.pyplot as plt\n",
    "epochs = range(1, num_epochs + 1)\n",
    "\n",
    "plt.figure(figsize=(10, 5))\n",
    "\n",
    "plt.subplot(1, 2, 1)\n",
    "plt.plot(epochs, val_accuracies, marker='o', label='Validation Accuracy')\n",
    "plt.xlabel('Epochs')\n",
    "plt.ylabel('Accuracy')\n",
    "plt.title('Validation Accuracy')\n",
    "plt.grid(True)\n",
    "\n",
    "plt.subplot(1, 2, 2)\n",
    "plt.plot(epochs, val_losses, marker='o', color='red', label='Validation Loss')\n",
    "plt.xlabel('Epochs')\n",
    "plt.ylabel('Loss')\n",
    "plt.title('Validation Loss')\n",
    "plt.grid(True)\n",
    "\n",
    "plt.tight_layout()\n",
    "plt.show()"
   ]
  },
  {
   "cell_type": "code",
   "execution_count": 15,
   "metadata": {},
   "outputs": [],
   "source": [
    "def evaluate_accuracy(model, features,labels):\n",
    "    import time\n",
    "    ###########################\n",
    "    model.eval()\n",
    "    model.to(device)\n",
    "    features = features.to(device)\n",
    "    labels = labels.to(device)\n",
    "    \n",
    "    start_time = time.time()\n",
    "    with torch.no_grad():\n",
    "        outputs = model(features)\n",
    "        _, predicted = torch.max(outputs, 1)\n",
    "    inference_time = time.time() - start_time\n",
    "    \n",
    "    correct = (predicted == labels).sum().item()\n",
    "    accuracy = correct / len(labels)\n",
    "    \n",
    "    return accuracy, inference_time\n",
    "    \n",
    "    \n",
    "    "
   ]
  },
  {
   "cell_type": "code",
   "execution_count": 16,
   "metadata": {},
   "outputs": [],
   "source": [
    "def modelsize(model):\n",
    "    import io\n",
    "    buffer = io.BytesIO()\n",
    "    torch.save(model.state_dict(), buffer)\n",
    "    size = buffer.getbuffer().nbytes / (1024 * 1024)\n",
    "    return size"
   ]
  },
  {
   "cell_type": "code",
   "execution_count": 17,
   "metadata": {},
   "outputs": [
    {
     "name": "stdout",
     "output_type": "stream",
     "text": [
      "Original Model Accuracy: 79.17582418%\n",
      "Original Model Inference Time: 0.0675 seconds\n",
      "Model size (MB): 20.19481658935547\n"
     ]
    }
   ],
   "source": [
    "model = MLP(10000, 2).to(device)\n",
    "model.load_state_dict(torch.load(\"checkpoint.pt\"))\n",
    "model.eval()\n",
    "size_original=modelsize(model)\n",
    "\n",
    "acc_original,time_original = evaluate_accuracy(model, X_test_tensor, y_test_tensor)\n",
    "print(\"Original Model Accuracy: {:.8f}%\".format(acc_original * 100))\n",
    "print(\"Original Model Inference Time: {:.4f} seconds\".format(time_original))\n",
    "print(\"Model size (MB):\", size_original)"
   ]
  },
  {
   "cell_type": "code",
   "execution_count": 18,
   "metadata": {},
   "outputs": [],
   "source": [
    "model = MLP(10000, 2).to(device)\n",
    "model.load_state_dict(torch.load(\"checkpoint.pt\"))\n",
    "model.eval()\n",
    "quantized_model = torch.quantization.quantize_dynamic(model, {nn.Linear}, dtype=torch.qint8)"
   ]
  },
  {
   "cell_type": "code",
   "execution_count": 19,
   "metadata": {},
   "outputs": [
    {
     "name": "stdout",
     "output_type": "stream",
     "text": [
      "Quantized model accuracy:  79.23076923076923 %\n",
      "Quantized model inference time: 0.0490 seconds \n",
      "Quantized model size:  5.057214736938477 MB\n"
     ]
    }
   ],
   "source": [
    "# For quantized model (must stay on CPU)\n",
    "acc_int8,time_int8= evaluate_accuracy(quantized_model, X_test_tensor, y_test_tensor)\n",
    "sizeint8=modelsize(quantized_model)\n",
    "\n",
    "print(\"Quantized model accuracy: \", acc_int8*100, \"%\")\n",
    "print(\"Quantized model inference time: {:.4f} seconds \".format(time_int8))\n",
    "print(\"Quantized model size: \", sizeint8, \"MB\")"
   ]
  },
  {
   "cell_type": "code",
   "execution_count": 20,
   "metadata": {},
   "outputs": [
    {
     "name": "stdout",
     "output_type": "stream",
     "text": [
      "Quantized model accuracy:  79.17582417582418 %\n",
      "Model inference time (FP16): 0.4865 seconds\n",
      "Model size (MB): 10.098991394042969\n"
     ]
    }
   ],
   "source": [
    "model = MLP(10000, 2).to(device)\n",
    "model.load_state_dict(torch.load(\"checkpoint.pt\"))\n",
    "model=model.half()\n",
    "model.eval()\n",
    "acc_16,time_16 = evaluate_accuracy(model, X_test_tensor_16, y_test_tensor)\n",
    "size16=modelsize(model)\n",
    "print(\"Quantized model accuracy: \", acc_16*100, \"%\")\n",
    "print(\"Model inference time (FP16): {:.4f} seconds\".format(time_16))\n",
    "print(\"Model size (MB):\", size16)"
   ]
  },
  {
   "cell_type": "code",
   "execution_count": 21,
   "metadata": {},
   "outputs": [],
   "source": [
    "#make a dataframe with the results\n",
    "import pandas as pd\n",
    "d_original={\"Model\":\"Original\",\"accuracy\":acc_original*100,\"time\":time_original,\"size\":size_original}\n",
    "d_int8={\"Model\":\"Dynamic\",\"accuracy\":acc_int8*100,\"time\":time_int8,\"size\":sizeint8}\n",
    "d_half={\"Model\":\"Half\",\"accuracy\":acc_16*100,\"time\":time_16,\"size\":size16}\n"
   ]
  },
  {
   "cell_type": "code",
   "execution_count": 22,
   "metadata": {},
   "outputs": [],
   "source": [
    "columns=[\"Model\",\"Accuracy\",\"Time(in s)\",\"Size in MB\"]\n",
    "df=pd.DataFrame(columns=columns)\n",
    "df.loc[0]=d_original.values()\n",
    "df.loc[1]=d_int8.values()\n",
    "df.loc[2]=d_half.values()"
   ]
  },
  {
   "cell_type": "code",
   "execution_count": 23,
   "metadata": {},
   "outputs": [
    {
     "data": {
      "text/html": [
       "<div>\n",
       "<style scoped>\n",
       "    .dataframe tbody tr th:only-of-type {\n",
       "        vertical-align: middle;\n",
       "    }\n",
       "\n",
       "    .dataframe tbody tr th {\n",
       "        vertical-align: top;\n",
       "    }\n",
       "\n",
       "    .dataframe thead th {\n",
       "        text-align: right;\n",
       "    }\n",
       "</style>\n",
       "<table border=\"1\" class=\"dataframe\">\n",
       "  <thead>\n",
       "    <tr style=\"text-align: right;\">\n",
       "      <th></th>\n",
       "      <th>Model</th>\n",
       "      <th>Accuracy</th>\n",
       "      <th>Time(in s)</th>\n",
       "      <th>Size in MB</th>\n",
       "    </tr>\n",
       "  </thead>\n",
       "  <tbody>\n",
       "    <tr>\n",
       "      <th>0</th>\n",
       "      <td>Original</td>\n",
       "      <td>79.175824</td>\n",
       "      <td>0.067477</td>\n",
       "      <td>20.194817</td>\n",
       "    </tr>\n",
       "    <tr>\n",
       "      <th>1</th>\n",
       "      <td>Dynamic</td>\n",
       "      <td>79.230769</td>\n",
       "      <td>0.049037</td>\n",
       "      <td>5.057215</td>\n",
       "    </tr>\n",
       "    <tr>\n",
       "      <th>2</th>\n",
       "      <td>Half</td>\n",
       "      <td>79.175824</td>\n",
       "      <td>0.486474</td>\n",
       "      <td>10.098991</td>\n",
       "    </tr>\n",
       "  </tbody>\n",
       "</table>\n",
       "</div>"
      ],
      "text/plain": [
       "      Model   Accuracy  Time(in s)  Size in MB\n",
       "0  Original  79.175824    0.067477   20.194817\n",
       "1   Dynamic  79.230769    0.049037    5.057215\n",
       "2      Half  79.175824    0.486474   10.098991"
      ]
     },
     "execution_count": 23,
     "metadata": {},
     "output_type": "execute_result"
    }
   ],
   "source": [
    "df"
   ]
  },
  {
   "cell_type": "code",
   "execution_count": null,
   "metadata": {},
   "outputs": [],
   "source": []
  }
 ],
 "metadata": {
  "kernelspec": {
   "display_name": "Python 3",
   "language": "python",
   "name": "python3"
  },
  "language_info": {
   "codemirror_mode": {
    "name": "ipython",
    "version": 3
   },
   "file_extension": ".py",
   "mimetype": "text/x-python",
   "name": "python",
   "nbconvert_exporter": "python",
   "pygments_lexer": "ipython3",
   "version": "3.10.0"
  }
 },
 "nbformat": 4,
 "nbformat_minor": 2
}
